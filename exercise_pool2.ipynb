{
 "cells": [
  {
   "attachments": {},
   "cell_type": "markdown",
   "metadata": {},
   "source": [
    "# Advanced numpy\n",
    "\n",
    "`For-loops are forbidden here!!`\n",
    "\n",
    "`a) Give a code snippet that create two random 1D arrays of length 20, with`\n",
    "`integer entries between 0 and 3 (included). Then, the code should compute the`\n",
    "`confusion matrix from these two vectors.`"
   ]
  },
  {
   "cell_type": "code",
   "execution_count": 2,
   "metadata": {},
   "outputs": [],
   "source": [
    "import numpy as np\n",
    "import pandas as pd"
   ]
  },
  {
   "cell_type": "code",
   "execution_count": 3,
   "metadata": {},
   "outputs": [
    {
     "name": "stdout",
     "output_type": "stream",
     "text": [
      "[[0 0 2 1]\n",
      " [2 2 1 3]\n",
      " [0 1 4 3]\n",
      " [1 0 0 0]]\n"
     ]
    }
   ],
   "source": [
    "arr1 = np.random.randint(0,4,20)\n",
    "arr2 = np.random.randint(0,4,20)\n",
    "\n",
    "confusion_matrix = np.zeros((4,4), dtype= int)\n",
    "np.add.at(confusion_matrix, (arr1, arr2), 1)\n",
    "print(confusion_matrix)"
   ]
  },
  {
   "attachments": {},
   "cell_type": "markdown",
   "metadata": {},
   "source": [
    "`Give a code snippet that generates two 1D arrays with values from 0 to 19`\n",
    "`(included) in ascending order. Then, the code should shuffle both arrays such`\n",
    "`that same positions contain same values after shuffling (like you would shuffle`\n",
    "`train data and labels).`"
   ]
  },
  {
   "cell_type": "code",
   "execution_count": 4,
   "metadata": {},
   "outputs": [
    {
     "name": "stdout",
     "output_type": "stream",
     "text": [
      "Arrays before shuffling:\n",
      "[ 0  1  2  3  4  5  6  7  8  9 10 11 12 13 14 15 16 17 18 19]\n",
      "[ 0  1  2  3  4  5  6  7  8  9 10 11 12 13 14 15 16 17 18 19]\n",
      "Arrays after shuffling:\n",
      "[12 10 12 17  8 11  3 11 16 11  5 19  7 15  5 16  4  4 18  7]\n",
      "[12 10 12 17  8 11  3 11 16 11  5 19  7 15  5 16  4  4 18  7]\n"
     ]
    }
   ],
   "source": [
    "arr1 = np.arange(0,20)\n",
    "arr2 = np.arange(0,20)\n",
    "\n",
    "print(\"Arrays before shuffling:\")\n",
    "print(arr1)\n",
    "print(arr2)\n",
    "\n",
    "shuffled_indices = np.random.randint(0,20,20)\n",
    "arr3 = arr1[shuffled_indices]\n",
    "arr4 = arr2[shuffled_indices]\n",
    "\n",
    "print(\"Arrays after shuffling:\")\n",
    "print(arr3)\n",
    "print(arr4)"
   ]
  },
  {
   "attachments": {},
   "cell_type": "markdown",
   "metadata": {},
   "source": [
    "`c) Give a code snippet that creates a 1D array with random values from 0 to`\n",
    "`9 (included). Then, interpret this array as scalar targets and create a one-hot`\n",
    "`representation for them, assuming 10 classes.`"
   ]
  },
  {
   "cell_type": "code",
   "execution_count": 5,
   "metadata": {},
   "outputs": [
    {
     "name": "stdout",
     "output_type": "stream",
     "text": [
      "[[1 0 0 0 0 0 0 0 0 0]\n",
      " [0 1 0 0 0 0 0 0 0 0]\n",
      " [0 0 1 0 0 0 0 0 0 0]\n",
      " [0 0 0 1 0 0 0 0 0 0]\n",
      " [0 0 0 0 1 0 0 0 0 0]\n",
      " [0 0 0 0 0 1 0 0 0 0]\n",
      " [0 0 0 0 0 0 1 0 0 0]\n",
      " [0 0 0 0 0 0 0 1 0 0]\n",
      " [0 0 0 0 0 0 0 0 1 0]\n",
      " [0 0 0 0 0 0 0 0 0 1]]\n"
     ]
    }
   ],
   "source": [
    "arr1 = np.arange(0,10)\n",
    "indices = np.arange(10)\n",
    "\n",
    "one_hot = np.zeros((10,10), dtype= int)\n",
    "one_hot[arr1, indices] = 1\n",
    "\n",
    "print(one_hot)"
   ]
  },
  {
   "attachments": {},
   "cell_type": "markdown",
   "metadata": {},
   "source": [
    "# CNN 2 answer\n",
    "\n",
    "`model = Sequential([`\n",
    "\n",
    "    Conv2D(filters = 32, kernel_size = (3, 3), padding='same', activation='relu', input_shape=(28, 28, 3)),\n",
    "\n",
    "    MaxPooling2D(pool_size=(2, 2)),\n",
    "\n",
    "    Conv2D(filtersv = 64, kernel_size = (3, 3), padding='same', activation='relu'),\n",
    "\n",
    "    MaxPooling2D(pool_size=(2, 2)),\n",
    "\n",
    "    Flatten()\n",
    "\n",
    "    Dense(units = 128, activation='relu'),\n",
    "\n",
    "    Dense(units = 64, activation='relu'),\n",
    "\n",
    "    Dense(units = 10, activation='softmax')\n",
    "    ])"
   ]
  },
  {
   "attachments": {},
   "cell_type": "markdown",
   "metadata": {},
   "source": [
    "# True & False\n",
    "\n",
    "1. All filters in a Conv2D-layer must be identical: `False`. In a Conv2D-layer, each filter has its own set of weights, which means that the filters can have different shapes and sizes.\n",
    "\n",
    "2. The number of filters in a conv2D-layer can be chosen arbitrarily: `True`. The number of filters is a hyperparameter that can be set when designing the model architecture.\n",
    "\n",
    "3. The width and height of a conv2D-layer output can be chosen arbitrarily: `True`. The width and height of the output of a Conv2D-layer depend on the input size, the padding, the stride, and the size of the filter. These parameters can be chosen to achieve the desired output size.\n",
    "\n",
    "4. A max-pooling layer must have a kernel size of 2x2: `False`. The kernel size for max-pooling can be chosen arbitrarily, but a kernel size of 2x2 is a common choice.\n",
    "\n",
    "5. A Conv2D-layer must be followed by ReLU: `False`. While ReLU is a common activation function used after a Conv2D-layer, other activation functions can also be used, or no activation function at all.\n",
    "\n",
    "6. A CNN classifier must contain at least one affine layer: `True`. An affine layer, also called a fully connected layer, is usually used as the final layer in a CNN classifier to produce the output.\n",
    "\n",
    "7. A CNN classifier can contain an arbitrary number of Conv2D-layers: `True`. The number of Conv2D-layers in a CNN classifier can be chosen based on the complexity of the problem being solved and the available computational resources."
   ]
  },
  {
   "attachments": {},
   "cell_type": "markdown",
   "metadata": {},
   "source": [
    "# Last year True & False\n",
    "• A Conv2D layer is a special case of a affine layer - `False`. Conv2D layer applies a convolution operation to the input tensor, whereas affine layer applies a matrix multiplication operation.\n",
    "\n",
    "• An affine layer must always be followed by a Softmax layer - `False`. An affine layer can be followed by various activation functions, depending on the task and network architecture.\n",
    "\n",
    "• A max-pooling layer has no trainable parameters - `True`. A max-pooling layer performs a fixed operation (taking the maximum value) and has no parameters to learn during training.\n",
    "\n",
    "• A Conv2D-layer must be followed by MaxPooling2D - `False`. While it is common to use a MaxPooling2D layer after a Conv2D layer to reduce the spatial dimensions, it is not required.\n",
    "\n",
    "• A CNN/DNN classifier must contain at least one Conv2D layer - `False`. While Conv2D layers are commonly used in CNNs, other layers like Dense layers can also be used to build a classifier."
   ]
  }
 ],
 "metadata": {
  "kernelspec": {
   "display_name": "venv",
   "language": "python",
   "name": "python3"
  },
  "language_info": {
   "codemirror_mode": {
    "name": "ipython",
    "version": 3
   },
   "file_extension": ".py",
   "mimetype": "text/x-python",
   "name": "python",
   "nbconvert_exporter": "python",
   "pygments_lexer": "ipython3",
   "version": "3.10.6"
  },
  "orig_nbformat": 4,
  "vscode": {
   "interpreter": {
    "hash": "afbdca80b61f06833a2f8c01c4d7c9f1c8f0ed3cc95f6d77eb3692c2322aaa91"
   }
  }
 },
 "nbformat": 4,
 "nbformat_minor": 2
}
